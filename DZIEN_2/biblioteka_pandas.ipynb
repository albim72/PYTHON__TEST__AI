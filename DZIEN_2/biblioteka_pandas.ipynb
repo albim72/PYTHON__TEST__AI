{
 "cells":[
  {
   "cell_type":"code",
   "source":[
    "import pandas as pd"
   ],
   "execution_count":1,
   "outputs":[],
   "metadata":{
    "datalore":{
     "node_id":"ZvcevRQhnqj0eFHd0tUrA7",
     "type":"CODE",
     "hide_input_from_viewers":true,
     "hide_output_from_viewers":true
    }
   }
  },
  {
   "cell_type":"code",
   "source":[
    "math_scores = pd.Series([78, 65, 89, 86, 55, 91],index=['Mary', 'John', 'Lisa', 'Adam', 'Anne', 'Bart'])\n",
    "\n",
    "math_scores"
   ],
   "execution_count":3,
   "outputs":[
    {
     "data":{
      "text\/html":[
       "<pre>Mary    78\n",
       "John    65\n",
       "Lisa    89\n",
       "Adam    86\n",
       "Anne    55\n",
       "Bart    91\n",
       "dtype: int64<\/pre>"
      ]
     },
     "metadata":{},
     "output_type":"display_data"
    }
   ],
   "metadata":{
    "datalore":{
     "node_id":"LDdY0TG1xqcKeDhAFx1zVq",
     "type":"CODE",
     "hide_input_from_viewers":true,
     "hide_output_from_viewers":true
    }
   }
  },
  {
   "cell_type":"code",
   "source":[
    "data = {\n",
    "    \"Matematyka\":[9,5,6,7,8,12],\n",
    "    \"Fizyka\":[10,11,12,13,14,15],\n",
    "    \"Chemia\":[16,17,18,19,20,21],\n",
    "    \"Biologia\":[22,23,24,25,26,27],\n",
    "    \"Geografia\":[28,29,30,31,32,33],\n",
    "    \"Historia\":[34,35,36,37,38,39]\n",
    "}\n",
    "\n",
    "students = ['Mary', 'John', 'Lisa', 'Adam', 'Anne', 'Bart']\n",
    "grades_df = pd.DataFrame(data, index=students)\n",
    "grades_df"
   ],
   "execution_count":5,
   "outputs":[
    {
     "data":{
      "text\/html":[
       "<div>\n",
       "<style scoped>\n",
       "    .dataframe tbody tr th:only-of-type {\n",
       "        vertical-align: middle;\n",
       "    }\n",
       "\n",
       "    .dataframe tbody tr th {\n",
       "        vertical-align: top;\n",
       "    }\n",
       "\n",
       "    .dataframe thead th {\n",
       "        text-align: right;\n",
       "    }\n",
       "<\/style>\n",
       "<table border=\"1\" class=\"dataframe\">\n",
       "  <thead>\n",
       "    <tr style=\"text-align: right;\">\n",
       "      <th><\/th>\n",
       "      <th>Matematyka<\/th>\n",
       "      <th>Fizyka<\/th>\n",
       "      <th>Chemia<\/th>\n",
       "      <th>Biologia<\/th>\n",
       "      <th>Geografia<\/th>\n",
       "      <th>Historia<\/th>\n",
       "    <\/tr>\n",
       "  <\/thead>\n",
       "  <tbody>\n",
       "    <tr>\n",
       "      <th>Mary<\/th>\n",
       "      <td>9<\/td>\n",
       "      <td>10<\/td>\n",
       "      <td>16<\/td>\n",
       "      <td>22<\/td>\n",
       "      <td>28<\/td>\n",
       "      <td>34<\/td>\n",
       "    <\/tr>\n",
       "    <tr>\n",
       "      <th>John<\/th>\n",
       "      <td>5<\/td>\n",
       "      <td>11<\/td>\n",
       "      <td>17<\/td>\n",
       "      <td>23<\/td>\n",
       "      <td>29<\/td>\n",
       "      <td>35<\/td>\n",
       "    <\/tr>\n",
       "    <tr>\n",
       "      <th>Lisa<\/th>\n",
       "      <td>6<\/td>\n",
       "      <td>12<\/td>\n",
       "      <td>18<\/td>\n",
       "      <td>24<\/td>\n",
       "      <td>30<\/td>\n",
       "      <td>36<\/td>\n",
       "    <\/tr>\n",
       "    <tr>\n",
       "      <th>Adam<\/th>\n",
       "      <td>7<\/td>\n",
       "      <td>13<\/td>\n",
       "      <td>19<\/td>\n",
       "      <td>25<\/td>\n",
       "      <td>31<\/td>\n",
       "      <td>37<\/td>\n",
       "    <\/tr>\n",
       "    <tr>\n",
       "      <th>Anne<\/th>\n",
       "      <td>8<\/td>\n",
       "      <td>14<\/td>\n",
       "      <td>20<\/td>\n",
       "      <td>26<\/td>\n",
       "      <td>32<\/td>\n",
       "      <td>38<\/td>\n",
       "    <\/tr>\n",
       "    <tr>\n",
       "      <th>Bart<\/th>\n",
       "      <td>12<\/td>\n",
       "      <td>15<\/td>\n",
       "      <td>21<\/td>\n",
       "      <td>27<\/td>\n",
       "      <td>33<\/td>\n",
       "      <td>39<\/td>\n",
       "    <\/tr>\n",
       "  <\/tbody>\n",
       "<\/table>\n",
       "<\/div>"
      ]
     },
     "metadata":{},
     "output_type":"display_data"
    }
   ],
   "metadata":{
    "datalore":{
     "node_id":"KBEKgVAwfFzrkAjlf1Am1l",
     "type":"CODE",
     "hide_input_from_viewers":true,
     "hide_output_from_viewers":true
    }
   }
  }
 ],
 "metadata":{
  "kernelspec":{
   "display_name":"Python",
   "language":"python",
   "name":"python"
  },
  "datalore":{
   "computation_mode":"JUPYTER",
   "package_manager":"pip",
   "base_environment":"default_3_11",
   "packages":[],
   "report_row_ids":[],
   "report_tabs":[],
   "version":4
  }
 },
 "nbformat":4,
 "nbformat_minor":4
}