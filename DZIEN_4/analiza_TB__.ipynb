{
 "cells":[
  {
   "cell_type":"code",
   "source":[
    "!pip install fsspec"
   ],
   "execution_count":3,
   "outputs":[
    {
     "name":"stdout",
     "text":[
      "Requirement already satisfied: fsspec in \/opt\/python\/envs\/default_3_11\/lib\/python3.11\/site-packages (2025.3.2)\r\n"
     ],
     "output_type":"stream"
    }
   ],
   "metadata":{
    "datalore":{
     "node_id":"WYI61Z2D0hPdCrVgyiY2Ic",
     "type":"CODE",
     "hide_input_from_viewers":true,
     "hide_output_from_viewers":true
    }
   }
  },
  {
   "cell_type":"code",
   "source":[
    "!pip install pyarrow"
   ],
   "execution_count":4,
   "outputs":[
    {
     "name":"stdout",
     "text":[
      "Requirement already satisfied: pyarrow in \/opt\/python\/envs\/default_3_11\/lib\/python3.11\/site-packages (19.0.1)\r\n"
     ],
     "output_type":"stream"
    }
   ],
   "metadata":{
    "datalore":{
     "node_id":"kwatOpB1br1bJrBmHYdAks",
     "type":"CODE",
     "hide_input_from_viewers":true,
     "hide_output_from_viewers":true
    }
   }
  },
  {
   "cell_type":"code",
   "source":[
    "!pip install s3fs"
   ],
   "execution_count":5,
   "outputs":[
    {
     "name":"stdout",
     "text":[
      "Requirement already satisfied: s3fs in \/opt\/python\/envs\/default_3_11\/lib\/python3.11\/site-packages (2025.3.2)\r\n",
      "Requirement already satisfied: aiobotocore<3.0.0,>=2.5.4 in \/opt\/python\/envs\/default_3_11\/lib\/python3.11\/site-packages (from s3fs) (2.22.0)\r\n",
      "Requirement already satisfied: fsspec==2025.3.2.* in \/opt\/python\/envs\/default_3_11\/lib\/python3.11\/site-packages (from s3fs) (2025.3.2)\r\n",
      "Requirement already satisfied: aiohttp!=4.0.0a0,!=4.0.0a1 in \/opt\/python\/envs\/default_3_11\/lib\/python3.11\/site-packages (from s3fs) (3.11.18)\r\n",
      "Requirement already satisfied: aioitertools<1.0.0,>=0.5.1 in \/opt\/python\/envs\/default_3_11\/lib\/python3.11\/site-packages (from aiobotocore<3.0.0,>=2.5.4->s3fs) (0.12.0)\r\n",
      "Requirement already satisfied: botocore<1.37.4,>=1.37.2 in \/opt\/python\/envs\/default_3_11\/lib\/python3.11\/site-packages (from aiobotocore<3.0.0,>=2.5.4->s3fs) (1.37.3)\r\n",
      "Requirement already satisfied: python-dateutil<3.0.0,>=2.1 in \/opt\/python\/envs\/default_3_11\/lib\/python3.11\/site-packages (from aiobotocore<3.0.0,>=2.5.4->s3fs) (2.9.0.post0)\r\n",
      "Requirement already satisfied: jmespath<2.0.0,>=0.7.1 in \/opt\/python\/envs\/default_3_11\/lib\/python3.11\/site-packages (from aiobotocore<3.0.0,>=2.5.4->s3fs) (1.0.1)\r\n",
      "Requirement already satisfied: multidict<7.0.0,>=6.0.0 in \/opt\/python\/envs\/default_3_11\/lib\/python3.11\/site-packages (from aiobotocore<3.0.0,>=2.5.4->s3fs) (6.4.3)\r\n",
      "Requirement already satisfied: wrapt<2.0.0,>=1.10.10 in \/opt\/python\/envs\/default_3_11\/lib\/python3.11\/site-packages (from aiobotocore<3.0.0,>=2.5.4->s3fs) (1.17.2)\r\n",
      "Requirement already satisfied: aiohappyeyeballs>=2.3.0 in \/opt\/python\/envs\/default_3_11\/lib\/python3.11\/site-packages (from aiohttp!=4.0.0a0,!=4.0.0a1->s3fs) (2.6.1)\r\n",
      "Requirement already satisfied: aiosignal>=1.1.2 in \/opt\/python\/envs\/default_3_11\/lib\/python3.11\/site-packages (from aiohttp!=4.0.0a0,!=4.0.0a1->s3fs) (1.3.2)\r\n",
      "Requirement already satisfied: attrs>=17.3.0 in \/opt\/python\/envs\/default_3_11\/lib\/python3.11\/site-packages (from aiohttp!=4.0.0a0,!=4.0.0a1->s3fs) (25.3.0)\r\n",
      "Requirement already satisfied: frozenlist>=1.1.1 in \/opt\/python\/envs\/default_3_11\/lib\/python3.11\/site-packages (from aiohttp!=4.0.0a0,!=4.0.0a1->s3fs) (1.6.0)\r\n",
      "Requirement already satisfied: propcache>=0.2.0 in \/opt\/python\/envs\/default_3_11\/lib\/python3.11\/site-packages (from aiohttp!=4.0.0a0,!=4.0.0a1->s3fs) (0.3.1)\r\n",
      "Requirement already satisfied: yarl<2.0,>=1.17.0 in \/opt\/python\/envs\/default_3_11\/lib\/python3.11\/site-packages (from aiohttp!=4.0.0a0,!=4.0.0a1->s3fs) (1.20.0)\r\n",
      "Requirement already satisfied: urllib3!=2.2.0,<3,>=1.25.4 in \/opt\/python\/envs\/default_3_11\/lib\/python3.11\/site-packages (from botocore<1.37.4,>=1.37.2->aiobotocore<3.0.0,>=2.5.4->s3fs) (2.4.0)\r\n",
      "Requirement already satisfied: six>=1.5 in \/opt\/python\/envs\/default_3_11\/lib\/python3.11\/site-packages (from python-dateutil<3.0.0,>=2.1->aiobotocore<3.0.0,>=2.5.4->s3fs) (1.17.0)\r\n",
      "Requirement already satisfied: idna>=2.0 in \/opt\/python\/envs\/default_3_11\/lib\/python3.11\/site-packages (from yarl<2.0,>=1.17.0->aiohttp!=4.0.0a0,!=4.0.0a1->s3fs) (3.10)\r\n"
     ],
     "output_type":"stream"
    }
   ],
   "metadata":{
    "datalore":{
     "node_id":"PQzjp9aFQ0zbVmaE4ncKy1",
     "type":"CODE",
     "hide_input_from_viewers":true,
     "hide_output_from_viewers":true
    }
   }
  },
  {
   "cell_type":"code",
   "source":[
    "!pip install dask[complete] fsspec s3fs pyarrow"
   ],
   "execution_count":1,
   "outputs":[
    {
     "name":"stdout",
     "text":[
      "Requirement already satisfied: fsspec in \/opt\/python\/envs\/default_3_11\/lib\/python3.11\/site-packages (2025.3.2)\r\n",
      "Collecting s3fs\r\n",
      "  Downloading s3fs-2025.3.2-py3-none-any.whl.metadata (1.9 kB)\r\n",
      "Requirement already satisfied: pyarrow in \/opt\/python\/envs\/default_3_11\/lib\/python3.11\/site-packages (19.0.1)\r\n",
      "Collecting dask[complete]\r\n",
      "  Downloading dask-2025.4.1-py3-none-any.whl.metadata (3.8 kB)\r\n",
      "Requirement already satisfied: click>=8.1 in \/opt\/python\/envs\/default_3_11\/lib\/python3.11\/site-packages (from dask[complete]) (8.1.8)\r\n",
      "Collecting cloudpickle>=3.0.0 (from dask[complete])\r\n",
      "  Downloading cloudpickle-3.1.1-py3-none-any.whl.metadata (7.1 kB)\r\n",
      "Requirement already satisfied: packaging>=20.0 in \/opt\/python\/envs\/default_3_11\/lib\/python3.11\/site-packages (from dask[complete]) (25.0)\r\n",
      "Collecting partd>=1.4.0 (from dask[complete])\r\n",
      "  Downloading partd-1.4.2-py3-none-any.whl.metadata (4.6 kB)\r\n",
      "Requirement already satisfied: pyyaml>=5.3.1 in \/opt\/python\/envs\/default_3_11\/lib\/python3.11\/site-packages (from dask[complete]) (6.0.2)\r\n",
      "Collecting toolz>=0.10.0 (from dask[complete])\r\n",
      "  Downloading toolz-1.0.0-py3-none-any.whl.metadata (5.1 kB)\r\n",
      "Collecting importlib_metadata>=4.13.0 (from dask[complete])\r\n",
      "  Downloading importlib_metadata-8.7.0-py3-none-any.whl.metadata (4.8 kB)\r\n",
      "Collecting lz4>=4.3.2 (from dask[complete])\r\n",
      "  Downloading lz4-4.4.4-cp311-cp311-manylinux_2_17_x86_64.manylinux2014_x86_64.whl.metadata (3.8 kB)\r\n",
      "Collecting aiobotocore<3.0.0,>=2.5.4 (from s3fs)\r\n",
      "  Downloading aiobotocore-2.22.0-py3-none-any.whl.metadata (24 kB)\r\n",
      "Collecting aiohttp!=4.0.0a0,!=4.0.0a1 (from s3fs)\r\n",
      "  Downloading aiohttp-3.11.18-cp311-cp311-manylinux_2_17_x86_64.manylinux2014_x86_64.whl.metadata (7.7 kB)\r\n",
      "Collecting aioitertools<1.0.0,>=0.5.1 (from aiobotocore<3.0.0,>=2.5.4->s3fs)\r\n",
      "  Downloading aioitertools-0.12.0-py3-none-any.whl.metadata (3.8 kB)\r\n",
      "Collecting botocore<1.37.4,>=1.37.2 (from aiobotocore<3.0.0,>=2.5.4->s3fs)\r\n",
      "  Downloading botocore-1.37.3-py3-none-any.whl.metadata (5.7 kB)\r\n",
      "Requirement already satisfied: python-dateutil<3.0.0,>=2.1 in \/opt\/python\/envs\/default_3_11\/lib\/python3.11\/site-packages (from aiobotocore<3.0.0,>=2.5.4->s3fs) (2.9.0.post0)\r\n",
      "Requirement already satisfied: jmespath<2.0.0,>=0.7.1 in \/opt\/python\/envs\/default_3_11\/lib\/python3.11\/site-packages (from aiobotocore<3.0.0,>=2.5.4->s3fs) (1.0.1)\r\n",
      "Collecting multidict<7.0.0,>=6.0.0 (from aiobotocore<3.0.0,>=2.5.4->s3fs)\r\n",
      "  Downloading multidict-6.4.3-cp311-cp311-manylinux_2_17_x86_64.manylinux2014_x86_64.whl.metadata (5.3 kB)\r\n",
      "Requirement already satisfied: wrapt<2.0.0,>=1.10.10 in \/opt\/python\/envs\/default_3_11\/lib\/python3.11\/site-packages (from aiobotocore<3.0.0,>=2.5.4->s3fs) (1.17.2)\r\n",
      "Collecting aiohappyeyeballs>=2.3.0 (from aiohttp!=4.0.0a0,!=4.0.0a1->s3fs)\r\n",
      "  Downloading aiohappyeyeballs-2.6.1-py3-none-any.whl.metadata (5.9 kB)\r\n",
      "Collecting aiosignal>=1.1.2 (from aiohttp!=4.0.0a0,!=4.0.0a1->s3fs)\r\n",
      "  Downloading aiosignal-1.3.2-py2.py3-none-any.whl.metadata (3.8 kB)\r\n",
      "Requirement already satisfied: attrs>=17.3.0 in \/opt\/python\/envs\/default_3_11\/lib\/python3.11\/site-packages (from aiohttp!=4.0.0a0,!=4.0.0a1->s3fs) (25.3.0)\r\n",
      "Collecting frozenlist>=1.1.1 (from aiohttp!=4.0.0a0,!=4.0.0a1->s3fs)\r\n",
      "  Downloading frozenlist-1.6.0-cp311-cp311-manylinux_2_5_x86_64.manylinux1_x86_64.manylinux_2_17_x86_64.manylinux2014_x86_64.whl.metadata (16 kB)\r\n",
      "Collecting propcache>=0.2.0 (from aiohttp!=4.0.0a0,!=4.0.0a1->s3fs)\r\n",
      "  Downloading propcache-0.3.1-cp311-cp311-manylinux_2_17_x86_64.manylinux2014_x86_64.whl.metadata (10 kB)\r\n",
      "Collecting yarl<2.0,>=1.17.0 (from aiohttp!=4.0.0a0,!=4.0.0a1->s3fs)\r\n",
      "  Downloading yarl-1.20.0-cp311-cp311-manylinux_2_17_x86_64.manylinux2014_x86_64.whl.metadata (72 kB)\r\n",
      "Collecting zipp>=3.20 (from importlib_metadata>=4.13.0->dask[complete])\r\n",
      "  Downloading zipp-3.21.0-py3-none-any.whl.metadata (3.7 kB)\r\n",
      "Collecting locket (from partd>=1.4.0->dask[complete])\r\n",
      "  Downloading locket-1.0.0-py2.py3-none-any.whl.metadata (2.8 kB)\r\n",
      "Requirement already satisfied: numpy>=1.24 in \/opt\/python\/envs\/default_3_11\/lib\/python3.11\/site-packages (from dask[complete]) (1.26.4)\r\n",
      "Requirement already satisfied: pandas>=2.0 in \/opt\/python\/envs\/default_3_11\/lib\/python3.11\/site-packages (from dask[complete]) (2.2.3)\r\n",
      "Collecting distributed==2025.4.1 (from dask[complete])\r\n",
      "  Downloading distributed-2025.4.1-py3-none-any.whl.metadata (3.4 kB)\r\n",
      "Requirement already satisfied: bokeh>=3.1.0 in \/opt\/python\/envs\/default_3_11\/lib\/python3.11\/site-packages (from dask[complete]) (3.7.2)\r\n",
      "Requirement already satisfied: jinja2>=2.10.3 in \/opt\/python\/envs\/default_3_11\/lib\/python3.11\/site-packages (from dask[complete]) (3.1.6)\r\n",
      "Collecting msgpack>=1.0.2 (from distributed==2025.4.1->dask[complete])\r\n",
      "  Downloading msgpack-1.1.0-cp311-cp311-manylinux_2_17_x86_64.manylinux2014_x86_64.whl.metadata (8.4 kB)\r\n",
      "Requirement already satisfied: psutil>=5.8.0 in \/opt\/python\/envs\/default_3_11\/lib\/python3.11\/site-packages (from distributed==2025.4.1->dask[complete]) (7.0.0)\r\n",
      "Collecting sortedcontainers>=2.0.5 (from distributed==2025.4.1->dask[complete])\r\n",
      "  Downloading sortedcontainers-2.4.0-py2.py3-none-any.whl.metadata (10 kB)\r\n",
      "Collecting tblib>=1.6.0 (from distributed==2025.4.1->dask[complete])\r\n",
      "  Downloading tblib-3.1.0-py3-none-any.whl.metadata (25 kB)\r\n",
      "Requirement already satisfied: tornado>=6.2.0 in \/opt\/python\/envs\/default_3_11\/lib\/python3.11\/site-packages (from distributed==2025.4.1->dask[complete]) (6.4.2)\r\n",
      "Requirement already satisfied: urllib3>=1.26.5 in \/opt\/python\/envs\/default_3_11\/lib\/python3.11\/site-packages (from distributed==2025.4.1->dask[complete]) (2.4.0)\r\n",
      "Collecting zict>=3.0.0 (from distributed==2025.4.1->dask[complete])\r\n",
      "  Downloading zict-3.0.0-py2.py3-none-any.whl.metadata (899 bytes)\r\n",
      "Requirement already satisfied: contourpy>=1.2 in \/opt\/python\/envs\/default_3_11\/lib\/python3.11\/site-packages (from bokeh>=3.1.0->dask[complete]) (1.3.2)\r\n",
      "Requirement already satisfied: narwhals>=1.13 in \/opt\/python\/envs\/default_3_11\/lib\/python3.11\/site-packages (from bokeh>=3.1.0->dask[complete]) (1.36.0)\r\n",
      "Requirement already satisfied: pillow>=7.1.0 in \/opt\/python\/envs\/default_3_11\/lib\/python3.11\/site-packages (from bokeh>=3.1.0->dask[complete]) (11.2.1)\r\n",
      "Requirement already satisfied: xyzservices>=2021.09.1 in \/opt\/python\/envs\/default_3_11\/lib\/python3.11\/site-packages (from bokeh>=3.1.0->dask[complete]) (2025.4.0)\r\n",
      "Requirement already satisfied: MarkupSafe>=2.0 in \/opt\/python\/envs\/default_3_11\/lib\/python3.11\/site-packages (from jinja2>=2.10.3->dask[complete]) (3.0.2)\r\n",
      "Requirement already satisfied: pytz>=2020.1 in \/opt\/python\/envs\/default_3_11\/lib\/python3.11\/site-packages (from pandas>=2.0->dask[complete]) (2025.2)\r\n",
      "Requirement already satisfied: tzdata>=2022.7 in \/opt\/python\/envs\/default_3_11\/lib\/python3.11\/site-packages (from pandas>=2.0->dask[complete]) (2025.2)\r\n",
      "Requirement already satisfied: six>=1.5 in \/opt\/python\/envs\/default_3_11\/lib\/python3.11\/site-packages (from python-dateutil<3.0.0,>=2.1->aiobotocore<3.0.0,>=2.5.4->s3fs) (1.17.0)\r\n",
      "Requirement already satisfied: idna>=2.0 in \/opt\/python\/envs\/default_3_11\/lib\/python3.11\/site-packages (from yarl<2.0,>=1.17.0->aiohttp!=4.0.0a0,!=4.0.0a1->s3fs) (3.10)\r\n",
      "Downloading s3fs-2025.3.2-py3-none-any.whl (30 kB)\r\n",
      "Downloading aiobotocore-2.22.0-py3-none-any.whl (78 kB)\r\n",
      "Downloading aiohttp-3.11.18-cp311-cp311-manylinux_2_17_x86_64.manylinux2014_x86_64.whl (1.7 MB)\r\n",
      "\u001b[?25l   \u001b[90m━━━━━━━━━━━━━━━━━━━━━━━━━━━━━━━━━━━━━━━━\u001b[0m \u001b[32m0.0\/1.7 MB\u001b[0m \u001b[31m?\u001b[0m eta \u001b[36m-:--:--\u001b[0m\r\u001b[2K   \u001b[91m━━━━━━━━━━━━━━━━━━\u001b[0m\u001b[91m╸\u001b[0m\u001b[90m━━━━━━━━━━━━━━━━━━━━━\u001b[0m \u001b[32m0.8\/1.7 MB\u001b[0m \u001b[31m6.5 MB\/s\u001b[0m eta \u001b[36m0:00:01\u001b[0m\r\u001b[2K   \u001b[90m━━━━━━━━━━━━━━━━━━━━━━━━━━━━━━━━━━━━━━━━\u001b[0m \u001b[32m1.7\/1.7 MB\u001b[0m \u001b[31m4.3 MB\/s\u001b[0m eta \u001b[36m0:00:00\u001b[0m\r\n",
      "\u001b[?25hDownloading cloudpickle-3.1.1-py3-none-any.whl (20 kB)\r\n",
      "Downloading importlib_metadata-8.7.0-py3-none-any.whl (27 kB)\r\n",
      "Downloading lz4-4.4.4-cp311-cp311-manylinux_2_17_x86_64.manylinux2014_x86_64.whl (1.3 MB)\r\n",
      "\u001b[?25l   \u001b[90m━━━━━━━━━━━━━━━━━━━━━━━━━━━━━━━━━━━━━━━━\u001b[0m \u001b[32m0.0\/1.3 MB\u001b[0m \u001b[31m?\u001b[0m eta \u001b[36m-:--:--\u001b[0m\r\u001b[2K   \u001b[90m━━━━━━━━━━━━━━━━━━━━━━━━━━━━━━━━━━━━━━━━\u001b[0m \u001b[32m1.3\/1.3 MB\u001b[0m \u001b[31m13.9 MB\/s\u001b[0m eta \u001b[36m0:00:00\u001b[0m\r\n",
      "\u001b[?25hDownloading partd-1.4.2-py3-none-any.whl (18 kB)\r\n",
      "Downloading toolz-1.0.0-py3-none-any.whl (56 kB)\r\n",
      "Downloading dask-2025.4.1-py3-none-any.whl (1.5 MB)\r\n",
      "\u001b[?25l   \u001b[90m━━━━━━━━━━━━━━━━━━━━━━━━━━━━━━━━━━━━━━━━\u001b[0m \u001b[32m0.0\/1.5 MB\u001b[0m \u001b[31m?\u001b[0m eta \u001b[36m-:--:--\u001b[0m\r\u001b[2K   \u001b[91m━━━━━━━━━━━━━━━━━━━━━━━━━━━━━━━━━━━\u001b[0m\u001b[91m╸\u001b[0m\u001b[90m━━━━\u001b[0m \u001b[32m1.3\/1.5 MB\u001b[0m \u001b[31m4.4 MB\/s\u001b[0m eta \u001b[36m0:00:01\u001b[0m\r\u001b[2K   \u001b[90m━━━━━━━━━━━━━━━━━━━━━━━━━━━━━━━━━━━━━━━━\u001b[0m \u001b[32m1.5\/1.5 MB\u001b[0m \u001b[31m2.2 MB\/s\u001b[0m eta \u001b[36m0:00:00\u001b[0m\r\n",
      "\u001b[?25hDownloading distributed-2025.4.1-py3-none-any.whl (1.0 MB)\r\n",
      "\u001b[?25l   \u001b[90m━━━━━━━━━━━━━━━━━━━━━━━━━━━━━━━━━━━━━━━━\u001b[0m \u001b[32m0.0\/1.0 MB\u001b[0m \u001b[31m?\u001b[0m eta \u001b[36m-:--:--\u001b[0m\r\u001b[2K   \u001b[91m━━━━━━━━━━━━━━━━━━━━━━━━━━━━━━\u001b[0m\u001b[91m╸\u001b[0m\u001b[90m━━━━━━━━━\u001b[0m \u001b[32m0.8\/1.0 MB\u001b[0m \u001b[31m6.5 MB\/s\u001b[0m eta \u001b[36m0:00:01\u001b[0m\r\u001b[2K   \u001b[90m━━━━━━━━━━━━━━━━━━━━━━━━━━━━━━━━━━━━━━━━\u001b[0m \u001b[32m1.0\/1.0 MB\u001b[0m \u001b[31m4.6 MB\/s\u001b[0m eta \u001b[36m0:00:00\u001b[0m\r\n",
      "\u001b[?25hDownloading aiohappyeyeballs-2.6.1-py3-none-any.whl (15 kB)\r\n",
      "Downloading aioitertools-0.12.0-py3-none-any.whl (24 kB)\r\n",
      "Downloading aiosignal-1.3.2-py2.py3-none-any.whl (7.6 kB)\r\n",
      "Downloading botocore-1.37.3-py3-none-any.whl (13.3 MB)\r\n",
      "\u001b[?25l   \u001b[90m━━━━━━━━━━━━━━━━━━━━━━━━━━━━━━━━━━━━━━━━\u001b[0m \u001b[32m0.0\/13.3 MB\u001b[0m \u001b[31m?\u001b[0m eta \u001b[36m-:--:--\u001b[0m\r\u001b[2K   \u001b[91m━━━━━\u001b[0m\u001b[91m╸\u001b[0m\u001b[90m━━━━━━━━━━━━━━━━━━━━━━━━━━━━━━━━━━\u001b[0m \u001b[32m1.8\/13.3 MB\u001b[0m \u001b[31m9.6 MB\/s\u001b[0m eta \u001b[36m0:00:02\u001b[0m\r\u001b[2K   \u001b[91m━━━━━━━━━━━\u001b[0m\u001b[91m╸\u001b[0m\u001b[90m━━━━━━━━━━━━━━━━━━━━━━━━━━━━\u001b[0m \u001b[32m3.9\/13.3 MB\u001b[0m \u001b[31m8.9 MB\/s\u001b[0m eta \u001b[36m0:00:02\u001b[0m\r\u001b[2K   \u001b[91m━━━━━━━━━━━━━━\u001b[0m\u001b[90m╺\u001b[0m\u001b[90m━━━━━━━━━━━━━━━━━━━━━━━━━\u001b[0m \u001b[32m4.7\/13.3 MB\u001b[0m \u001b[31m7.7 MB\/s\u001b[0m eta \u001b[36m0:00:02\u001b[0m\r\u001b[2K   \u001b[91m━━━━━━━━━━━━━━━━━━━\u001b[0m\u001b[91m╸\u001b[0m\u001b[90m━━━━━━━━━━━━━━━━━━━━\u001b[0m \u001b[32m6.6\/13.3 MB\u001b[0m \u001b[31m6.5 MB\/s\u001b[0m eta \u001b[36m0:00:02\u001b[0m\r\u001b[2K   \u001b[91m━━━━━━━━━━━━━━━━━━━━━━━━━━━━━━\u001b[0m\u001b[91m╸\u001b[0m\u001b[90m━━━━━━━━━\u001b[0m \u001b[32m10.2\/13.3 MB\u001b[0m \u001b[31m7.7 MB\/s\u001b[0m eta \u001b[36m0:00:01\u001b[0m\r\u001b[2K   \u001b[91m━━━━━━━━━━━━━━━━━━━━━━━━━━━━━━━━━━━━━━━\u001b[0m\u001b[90m╺\u001b[0m \u001b[32m13.1\/13.3 MB\u001b[0m \u001b[31m8.4 MB\/s\u001b[0m eta \u001b[36m0:00:01\u001b[0m\r\u001b[2K   \u001b[90m━━━━━━━━━━━━━━━━━━━━━━━━━━━━━━━━━━━━━━━━\u001b[0m \u001b[32m13.3\/13.3 MB\u001b[0m \u001b[31m7.4 MB\/s\u001b[0m eta \u001b[36m0:00:00\u001b[0m\r\n",
      "\u001b[?25hDownloading frozenlist-1.6.0-cp311-cp311-manylinux_2_5_x86_64.manylinux1_x86_64.manylinux_2_17_x86_64.manylinux2014_x86_64.whl (313 kB)\r\n",
      "Downloading locket-1.0.0-py2.py3-none-any.whl (4.4 kB)\r\n",
      "Downloading multidict-6.4.3-cp311-cp311-manylinux_2_17_x86_64.manylinux2014_x86_64.whl (223 kB)\r\n",
      "Downloading propcache-0.3.1-cp311-cp311-manylinux_2_17_x86_64.manylinux2014_x86_64.whl (232 kB)\r\n",
      "Downloading yarl-1.20.0-cp311-cp311-manylinux_2_17_x86_64.manylinux2014_x86_64.whl (358 kB)\r\n",
      "Downloading zipp-3.21.0-py3-none-any.whl (9.6 kB)\r\n",
      "Downloading msgpack-1.1.0-cp311-cp311-manylinux_2_17_x86_64.manylinux2014_x86_64.whl (403 kB)\r\n",
      "Downloading sortedcontainers-2.4.0-py2.py3-none-any.whl (29 kB)\r\n",
      "Downloading tblib-3.1.0-py3-none-any.whl (12 kB)\r\n",
      "Downloading zict-3.0.0-py2.py3-none-any.whl (43 kB)\r\n",
      "Installing collected packages: sortedcontainers, zipp, zict, toolz, tblib, propcache, multidict, msgpack, lz4, locket, frozenlist, cloudpickle, aioitertools, aiohappyeyeballs, yarl, partd, importlib_metadata, botocore, aiosignal, dask, aiohttp, distributed, aiobotocore, s3fs\r\n",
      "  Attempting uninstall: botocore\r\n",
      "    Found existing installation: botocore 1.37.38\r\n",
      "    Uninstalling botocore-1.37.38:\r\n",
      "      Successfully uninstalled botocore-1.37.38\r\n",
      "\u001b[31mERROR: pip's dependency resolver does not currently take into account all the packages that are installed. This behaviour is the source of the following dependency conflicts.\r\n",
      "s3transfer 0.11.5 requires botocore<2.0a.0,>=1.37.4, but you have botocore 1.37.3 which is incompatible.\r\n",
      "boto3 1.37.34 requires botocore<1.38.0,>=1.37.34, but you have botocore 1.37.3 which is incompatible.\u001b[0m\u001b[31m\r\n",
      "\u001b[0mSuccessfully installed aiobotocore-2.22.0 aiohappyeyeballs-2.6.1 aiohttp-3.11.18 aioitertools-0.12.0 aiosignal-1.3.2 botocore-1.37.3 cloudpickle-3.1.1 dask-2025.4.1 distributed-2025.4.1 frozenlist-1.6.0 importlib_metadata-8.7.0 locket-1.0.0 lz4-4.4.4 msgpack-1.1.0 multidict-6.4.3 partd-1.4.2 propcache-0.3.1 s3fs-2025.3.2 sortedcontainers-2.4.0 tblib-3.1.0 toolz-1.0.0 yarl-1.20.0 zict-3.0.0 zipp-3.21.0\r\n"
     ],
     "output_type":"stream"
    }
   ],
   "metadata":{
    "datalore":{
     "node_id":"Vt4NgsEtMzelNgYYockYC2",
     "type":"CODE",
     "hide_input_from_viewers":true,
     "hide_output_from_viewers":true
    }
   }
  },
  {
   "cell_type":"code",
   "source":[
    "!curl -O https:\/\/d37ci6vzurychx.cloudfront.net\/trip-data\/yellow_tripdata_2019-01.parquet"
   ],
   "execution_count":7,
   "outputs":[
    {
     "name":"stdout",
     "text":[
      "  % Total    % Received % Xferd  Average Speed   Time    Time     Time  Current\r\n",
      "                                 Dload  Upload   Total   Spent    Left  Speed\r\n",
      "\r  0     0    0     0    0     0      0      0 --:--:-- --:--:-- --:--:--     0\r 15  105M   15 15.8M    0     0  53.5M      0  0:00:01 --:--:--  0:00:01 53.4M\r 96  105M   96  101M    0     0  78.1M      0  0:00:01  0:00:01 --:--:-- 78.0M\r100  105M  100  105M    0     0  78.7M      0  0:00:01  0:00:01 --:--:-- 78.7M\r\n"
     ],
     "output_type":"stream"
    }
   ],
   "metadata":{
    "datalore":{
     "node_id":"qgjFhXpRgmgk9nhYZ09ZCB",
     "type":"CODE",
     "hide_input_from_viewers":true,
     "hide_output_from_viewers":true
    }
   }
  },
  {
   "cell_type":"code",
   "source":[
    "import dask.dataframe as dd\n",
    "\n",
    "# ddf = dd.read_parquet(\n",
    "#     \"s3:\/\/nyc-tlc\/trip-data\/\",\n",
    "#     storage_options={\"anon\":True},\n",
    "#     engine=\"pyarrow\"\n",
    "# )\n",
    "\n",
    "dff = dd.read_parquet(\"yellow_tripdata_2019-01.parquet\")\n",
    "\n",
    "print(dff.columns)\n",
    "# print(dff.head(5))"
   ],
   "execution_count":2,
   "outputs":[
    {
     "name":"stdout",
     "text":[
      "Index(['VendorID', 'tpep_pickup_datetime', 'tpep_dropoff_datetime',\n",
      "       'passenger_count', 'trip_distance', 'RatecodeID', 'store_and_fwd_flag',\n",
      "       'PULocationID', 'DOLocationID', 'payment_type', 'fare_amount', 'extra',\n",
      "       'mta_tax', 'tip_amount', 'tolls_amount', 'improvement_surcharge',\n",
      "       'total_amount', 'congestion_surcharge', 'airport_fee'],\n",
      "      dtype='object')\n"
     ],
     "output_type":"stream"
    }
   ],
   "metadata":{
    "datalore":{
     "node_id":"FkX1eceoUYumCUBKNApwyv",
     "type":"CODE",
     "hide_input_from_viewers":true,
     "hide_output_from_viewers":true
    }
   }
  },
  {
   "cell_type":"code",
   "source":[
    "#obliczaenie średniej odległości przejazdu\n",
    "mean_distance = dff[\"trip_distance\"].mean().compute()\n",
    "print(f\"Średnia odległość przejzdu: {mean_distance:.2f} mil\")"
   ],
   "execution_count":3,
   "outputs":[
    {
     "name":"stdout",
     "text":[
      "Średnia odległość przejzdu: 2.83 mil\n"
     ],
     "output_type":"stream"
    }
   ],
   "metadata":{
    "datalore":{
     "node_id":"Tr88O64hPmbHirpj9d3ffq",
     "type":"CODE",
     "hide_input_from_viewers":true,
     "hide_output_from_viewers":true
    }
   }
  },
  {
   "cell_type":"code",
   "source":[
    "#liczba przejzdów dziennie\n",
    "dff[\"tpep_dropoff_datetime\"] = dd.to_datetime(dff[\"tpep_dropoff_datetime\"])\n",
    "\n",
    "#grupowanie po dacie i liczenie liczby przejazdów\n",
    "daily_counts = dff.groupby(dff[\"tpep_dropoff_datetime\"].dt.date).size().compute()\n",
    "print(daily_counts)"
   ],
   "execution_count":4,
   "outputs":[
    {
     "name":"stdout",
     "text":[
      "tpep_dropoff_datetime\n",
      "2001-02-02         1\n",
      "2003-01-01         2\n",
      "2008-12-31        16\n",
      "2009-01-01        56\n",
      "2018-11-09         1\n",
      "2018-11-28         9\n",
      "2018-11-29         2\n",
      "2018-12-21         1\n",
      "2018-12-25         1\n",
      "2018-12-30         7\n",
      "2018-12-31       220\n",
      "2019-01-01    188089\n",
      "2019-01-02    198635\n",
      "2019-01-03    223634\n",
      "2019-01-04    235350\n",
      "2019-01-05    236110\n",
      "2019-01-06    210247\n",
      "2019-01-07    228971\n",
      "2019-01-08    237042\n",
      "2019-01-09    255442\n",
      "2019-01-10    281348\n",
      "2019-01-11    290863\n",
      "2019-01-12    265039\n",
      "2019-01-13    229658\n",
      "2019-01-14    244904\n",
      "2019-01-15    267157\n",
      "2019-01-16    272384\n",
      "2019-01-17    284154\n",
      "2019-01-18    266260\n",
      "2019-01-19    236800\n",
      "2019-01-20    204113\n",
      "2019-01-21    193013\n",
      "2019-01-22    254922\n",
      "2019-01-23    260830\n",
      "2019-01-24    281394\n",
      "2019-01-25    291233\n",
      "2019-01-26    272094\n",
      "2019-01-27    222681\n",
      "2019-01-28    241106\n",
      "2019-01-29    259408\n",
      "2019-01-30    276534\n",
      "2019-01-31    283867\n",
      "2019-02-01      2986\n",
      "2019-02-02         3\n",
      "2019-02-04         2\n",
      "2019-02-13         1\n",
      "2019-02-24         1\n",
      "2019-02-25         2\n",
      "2019-03-17         2\n",
      "2019-03-19         3\n",
      "2019-04-07         1\n",
      "2019-04-09         2\n",
      "2019-04-28         3\n",
      "2019-05-20         1\n",
      "2019-06-10         2\n",
      "2019-07-01         5\n",
      "2019-07-23         1\n",
      "2019-08-13         1\n",
      "2019-09-03         1\n",
      "2088-01-24         2\n",
      "dtype: int64\n"
     ],
     "output_type":"stream"
    }
   ],
   "metadata":{
    "datalore":{
     "node_id":"kzHqOu0Sp79bbnIAP4GmnX",
     "type":"CODE",
     "hide_input_from_viewers":true,
     "hide_output_from_viewers":true
    }
   }
  },
  {
   "cell_type":"code",
   "source":[
    "import glob\n",
    "\n",
    "files = glob.glob(\"yellow_tripdata_2019-01.parquet\")\n",
    "\n",
    "ddf = dd.read_parquet(files)\n",
    "\n",
    "mean_distance = ddf[\"trip_distance\"].mean().compute()\n",
    "print(f\"Średnia odległość przejzadu: {mean_distance:.2f} mil\")"
   ],
   "execution_count":5,
   "outputs":[
    {
     "name":"stdout",
     "text":[
      "Średnia odległość przejzadu: 2.83 mil\n"
     ],
     "output_type":"stream"
    }
   ],
   "metadata":{
    "datalore":{
     "node_id":"RWZG7DkjWAODev6EcBewAS",
     "type":"CODE",
     "hide_input_from_viewers":true,
     "hide_output_from_viewers":true
    }
   }
  }
 ],
 "metadata":{
  "kernelspec":{
   "display_name":"Python",
   "language":"python",
   "name":"python"
  },
  "datalore":{
   "computation_mode":"JUPYTER",
   "package_manager":"pip",
   "base_environment":"default_3_11",
   "python_version":"3.11",
   "packages":[],
   "report_row_ids":[],
   "report_tabs":[],
   "version":4
  }
 },
 "nbformat":4,
 "nbformat_minor":4
}