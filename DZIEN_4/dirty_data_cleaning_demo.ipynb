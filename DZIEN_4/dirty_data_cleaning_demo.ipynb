{
 "cells": [
  {
   "cell_type": "markdown",
   "id": "1c37d72b",
   "metadata": {},
   "source": [
    "# Dirty Data Cleaning with Autoencoder & Genetic Algorithm\n",
    "Projekt do czyszczenia danych przy użyciu AI: autoenkodera (deep learning) oraz algorytmu genetycznego (optymalizacja heurystyczna)."
   ]
  },
  {
   "cell_type": "code",
   "execution_count": null,
   "id": "22f11cea",
   "metadata": {},
   "outputs": [],
   "source": [
    "# Importy\n",
    "import pandas as pd\n",
    "import numpy as np"
   ]
  },
  {
   "cell_type": "code",
   "execution_count": null,
   "id": "db819d34",
   "metadata": {},
   "outputs": [],
   "source": [
    "# Wczytanie danych\n",
    "df = pd.read_csv('../data/dirty_data.csv')\n",
    "df.head()"
   ]
  },
  {
   "cell_type": "markdown",
   "id": "318fa3a2",
   "metadata": {},
   "source": [
    "##  Przygotowanie danych (konwersja, imputacja braków itd.)"
   ]
  },
  {
   "cell_type": "code",
   "execution_count": null,
   "id": "c3fe4df8",
   "metadata": {},
   "outputs": [],
   "source": [
    "# Przykład czyszczenia - uzupełnianie wieku poza zakresem i NaN\n",
    "df['age'] = pd.to_numeric(df['age'], errors='coerce')\n",
    "df['age'] = df['age'].mask((df['age'] < 0) | (df['age'] > 120))\n",
    "df['age'] = df['age'].fillna(df['age'].median())\n",
    "df['income'] = pd.to_numeric(df['income'], errors='coerce')\n",
    "df['income'] = df['income'].mask((df['income'] < 1000) | (df['income'] > 100000))\n",
    "df['income'] = df['income'].fillna(df['income'].median())\n",
    "df.head()"
   ]
  },
  {
   "cell_type": "markdown",
   "id": "59ba4199",
   "metadata": {},
   "source": [
    "## Budowa prostego autoenkodera (MLP, TensorFlow)"
   ]
  },
  {
   "cell_type": "code",
   "execution_count": null,
   "id": "4e02abb7",
   "metadata": {},
   "outputs": [],
   "source": [
    "from tensorflow.keras.models import Model\n",
    "from tensorflow.keras.layers import Input, Dense\n",
    "from sklearn.preprocessing import StandardScaler\n",
    "\n",
    "# Zakładamy, że dane są numeryczne\n",
    "X = df[['age', 'income']].values\n",
    "scaler = StandardScaler()\n",
    "X_scaled = scaler.fit_transform(X)\n",
    "\n",
    "# Autoencoder\n",
    "inp = Input(shape=(2,))\n",
    "enc = Dense(4, activation='relu')(inp)\n",
    "enc = Dense(2, activation='relu')(enc)\n",
    "dec = Dense(4, activation='relu')(enc)\n",
    "out = Dense(2, activation='linear')(dec)\n",
    "model = Model(inp, out)\n",
    "model.compile(optimizer='adam', loss='mse')\n",
    "model.fit(X_scaled, X_scaled, epochs=20, verbose=1)"
   ]
  },
  {
   "cell_type": "code",
   "execution_count": null,
   "id": "b287b243",
   "metadata": {},
   "outputs": [],
   "source": [
    "# Detekcja błędów (rekonstrukcja)\n",
    "reconstructed = model.predict(X_scaled)\n",
    "mse = np.mean(np.power(X_scaled - reconstructed, 2), axis=1)\n",
    "df['anomaly_score'] = mse\n",
    "df.sort_values(by='anomaly_score', ascending=False).head()"
   ]
  },
  {
   "cell_type": "markdown",
   "id": "ba892302",
   "metadata": {},
   "source": [
    "##  Podsumowanie\n",
    "- Wykryto anomalie na podstawie rekonstrukcji autoenkodera\n",
    "- Możesz teraz dodać algorytm genetyczny w celu optymalizacji czyszczenia\n",
    "- Rozszerzenie: obsługa tekstu (embedding), logika reguł, integracja GUI"
   ]
  }
 ],
 "metadata": {
  "language_info": {
   "name": "python"
  }
 },
 "nbformat": 4,
 "nbformat_minor": 5
}
